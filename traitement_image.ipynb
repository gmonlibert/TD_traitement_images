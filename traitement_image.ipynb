{
 "cells": [
  {
   "cell_type": "code",
   "execution_count": 1,
   "metadata": {},
   "outputs": [
    {
     "name": "stdout",
     "output_type": "stream",
     "text": [
      "definition de l'image :  247 247\n"
     ]
    }
   ],
   "source": [
    "# -*- coding: utf-8 -*-\n",
    "\n",
    "import PIL.Image as pil\n",
    "\n",
    "# ouverture du fichier image avec la librairie pillow\n",
    "nom_fichier = \"toucan.jpg\"\n",
    "img = pil.open(nom_fichier)\n",
    "\n",
    "# Taille de l'image\n",
    "L,H = img.size\n",
    "print(\"definition de l'image : \", L, H)\n",
    "\n",
    "# création d'une image avec un filtre rouge\n",
    "img_gris = pil.new(\"RGB\", [L,H])\n",
    "for i in range(L):\n",
    "    for j in range(H):\n",
    "        r,g,b = img.getpixel((i,j))\n",
    "        moy = (r + g + b)//3\n",
    "        img_gris.putpixel((i,j), (moy,moy,moy))\n",
    "img_gris.save(\"toucan_gris.jpg\")\n",
    "\n",
    "# fermeture des fichiers\n",
    "img_gris.close()\n",
    "img.close()\n"
   ]
  },
  {
   "cell_type": "code",
   "execution_count": null,
   "metadata": {},
   "outputs": [],
   "source": []
  },
  {
   "cell_type": "code",
   "execution_count": null,
   "metadata": {},
   "outputs": [],
   "source": []
  }
 ],
 "metadata": {
  "kernelspec": {
   "display_name": "Python 3",
   "language": "python",
   "name": "python3"
  },
  "language_info": {
   "codemirror_mode": {
    "name": "ipython",
    "version": 3
   },
   "file_extension": ".py",
   "mimetype": "text/x-python",
   "name": "python",
   "nbconvert_exporter": "python",
   "pygments_lexer": "ipython3",
   "version": "3.7.4"
  }
 },
 "nbformat": 4,
 "nbformat_minor": 4
}
